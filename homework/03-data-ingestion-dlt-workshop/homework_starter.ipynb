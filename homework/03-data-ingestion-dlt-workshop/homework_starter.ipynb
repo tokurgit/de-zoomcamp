{
  "cells": [
    {
      "cell_type": "markdown",
      "metadata": {
        "id": "mrTFv5nPClXh"
      },
      "source": [
        "# **Homework**: Data talks club data engineering zoomcamp Data loading workshop\n",
        "\n",
        "Hello folks, let's practice what we learned - Loading data with the best practices of data engineering.\n",
        "\n",
        "Here are the exercises we will do\n",
        "\n",
        "\n"
      ]
    },
    {
      "cell_type": "markdown",
      "metadata": {
        "id": "wLF4iXf-NR7t"
      },
      "source": [
        "# 1. Use a generator\n",
        "\n",
        "Remember the concept of generator? Let's practice using them to futher our understanding of how they work.\n",
        "\n",
        "Let's define a generator and then run it as practice.\n",
        "\n",
        "**Answer the following questions:**\n",
        "\n",
        "- **Question 1: What is the sum of the outputs of the generator for limit = 5?** **-->** Answer: **8.382332347441762**\n",
        "- **Question 2: What is the 13th number yielded** --> Answer **3.605551275463989**\n",
        "\n",
        "I suggest practicing these questions without GPT as the purpose is to further your learning."
      ]
    },
    {
      "cell_type": "code",
      "execution_count": 49,
      "metadata": {
        "colab": {
          "base_uri": "https://localhost:8080/"
        },
        "id": "wLng-bDJN4jf",
        "outputId": "547683cb-5f56-4815-a903-d0d9578eb1f9"
      },
      "outputs": [
        {
          "name": "stdout",
          "output_type": "stream",
          "text": [
            "1: 1.0, total=1.0\n",
            "2: 1.4142135623730951, total=2.414213562373095\n",
            "3: 1.7320508075688772, total=4.146264369941973\n",
            "4: 2.0, total=6.146264369941973\n",
            "5: 2.23606797749979, total=8.382332347441762\n",
            "6: 2.449489742783178, total=10.83182209022494\n",
            "7: 2.6457513110645907, total=13.47757340128953\n",
            "8: 2.8284271247461903, total=16.30600052603572\n",
            "9: 3.0, total=19.30600052603572\n",
            "10: 3.1622776601683795, total=22.4682781862041\n",
            "11: 3.3166247903554, total=25.7849029765595\n",
            "12: 3.4641016151377544, total=29.249004591697254\n",
            "13: 3.605551275463989, total=32.854555867161245\n"
          ]
        }
      ],
      "source": [
        "def square_root_generator(limit):\n",
        "    n = 1\n",
        "    while n <= limit:\n",
        "        yield n ** 0.5\n",
        "        n += 1\n",
        "\n",
        "# Example usage:\n",
        "limit = 13\n",
        "generator = square_root_generator(limit)\n",
        "\n",
        "total = 0\n",
        "for idx, sqrt_value in enumerate(generator, 1):\n",
        "    total += sqrt_value\n",
        "    print(f\"{idx}: {sqrt_value}, {total=}\")\n"
      ]
    },
    {
      "cell_type": "markdown",
      "metadata": {
        "id": "xbe3q55zN43j"
      },
      "source": []
    },
    {
      "cell_type": "markdown",
      "metadata": {
        "id": "vjWhILzGJMpK"
      },
      "source": [
        "# 2. Append a generator to a table with existing data\n",
        "\n",
        "\n",
        "Below you have 2 generators. You will be tasked to load them to duckdb and answer some questions from the data\n",
        "\n",
        "1. Load the first generator and calculate the sum of ages of all people. Make sure to only load it once.\n",
        "2. Append the second generator to the same table as the first.\n",
        "3. **After correctly appending the data, calculate the sum of all ages of people.**\n",
        "\n",
        "\n"
      ]
    },
    {
      "cell_type": "code",
      "execution_count": 8,
      "metadata": {
        "colab": {
          "base_uri": "https://localhost:8080/"
        },
        "id": "2MoaQcdLBEk6",
        "outputId": "d2b93dc1-d83f-44ea-aeff-fdf51d75f7aa"
      },
      "outputs": [
        {
          "name": "stdout",
          "output_type": "stream",
          "text": [
            "Pipeline dlt_ipykernel_launcher load step completed in 0.21 seconds\n",
            "1 load package(s) were loaded to destination duckdb and into dataset generators\n",
            "The duckdb destination used duckdb:////home/tom/projects/de-zoomcamp/homework/03-data-ingestion-dlt-workshop/dlt_ipykernel_launcher.duckdb location to store data\n",
            "Load package 1707339561.8521063 is LOADED and contains no failed jobs\n",
            "Pipeline dlt_ipykernel_launcher load step completed in 0.20 seconds\n",
            "1 load package(s) were loaded to destination duckdb and into dataset generators\n",
            "The duckdb destination used duckdb:////home/tom/projects/de-zoomcamp/homework/03-data-ingestion-dlt-workshop/dlt_ipykernel_launcher.duckdb location to store data\n",
            "Load package 1707339562.454879 is LOADED and contains no failed jobs\n",
            "dlt_ipykernel_launcher\n"
          ]
        },
        {
          "data": {
            "text/html": [
              "<div>\n",
              "<style scoped>\n",
              "    .dataframe tbody tr th:only-of-type {\n",
              "        vertical-align: middle;\n",
              "    }\n",
              "\n",
              "    .dataframe tbody tr th {\n",
              "        vertical-align: top;\n",
              "    }\n",
              "\n",
              "    .dataframe thead th {\n",
              "        text-align: right;\n",
              "    }\n",
              "</style>\n",
              "<table border=\"1\" class=\"dataframe\">\n",
              "  <thead>\n",
              "    <tr style=\"text-align: right;\">\n",
              "      <th></th>\n",
              "      <th>id</th>\n",
              "      <th>name</th>\n",
              "      <th>age</th>\n",
              "      <th>city</th>\n",
              "      <th>_dlt_load_id</th>\n",
              "      <th>_dlt_id</th>\n",
              "      <th>occupation</th>\n",
              "    </tr>\n",
              "  </thead>\n",
              "  <tbody>\n",
              "    <tr>\n",
              "      <th>0</th>\n",
              "      <td>1</td>\n",
              "      <td>Person_1</td>\n",
              "      <td>26</td>\n",
              "      <td>City_A</td>\n",
              "      <td>1707339561.8521063</td>\n",
              "      <td>lGgpOyxz/vjAew</td>\n",
              "      <td>None</td>\n",
              "    </tr>\n",
              "    <tr>\n",
              "      <th>1</th>\n",
              "      <td>2</td>\n",
              "      <td>Person_2</td>\n",
              "      <td>27</td>\n",
              "      <td>City_A</td>\n",
              "      <td>1707339561.8521063</td>\n",
              "      <td>3s0Egqt1itkKOg</td>\n",
              "      <td>None</td>\n",
              "    </tr>\n",
              "    <tr>\n",
              "      <th>2</th>\n",
              "      <td>3</td>\n",
              "      <td>Person_3</td>\n",
              "      <td>28</td>\n",
              "      <td>City_A</td>\n",
              "      <td>1707339561.8521063</td>\n",
              "      <td>vzHyeYvwboeCFg</td>\n",
              "      <td>None</td>\n",
              "    </tr>\n",
              "    <tr>\n",
              "      <th>3</th>\n",
              "      <td>3</td>\n",
              "      <td>Person_3</td>\n",
              "      <td>33</td>\n",
              "      <td>City_B</td>\n",
              "      <td>1707339562.454879</td>\n",
              "      <td>JHfU6chDahsrFQ</td>\n",
              "      <td>Job_3</td>\n",
              "    </tr>\n",
              "    <tr>\n",
              "      <th>4</th>\n",
              "      <td>4</td>\n",
              "      <td>Person_4</td>\n",
              "      <td>29</td>\n",
              "      <td>City_A</td>\n",
              "      <td>1707339561.8521063</td>\n",
              "      <td>zr0aW7pUzszLZA</td>\n",
              "      <td>None</td>\n",
              "    </tr>\n",
              "    <tr>\n",
              "      <th>5</th>\n",
              "      <td>4</td>\n",
              "      <td>Person_4</td>\n",
              "      <td>34</td>\n",
              "      <td>City_B</td>\n",
              "      <td>1707339562.454879</td>\n",
              "      <td>aYz49rHMrWXgzg</td>\n",
              "      <td>Job_4</td>\n",
              "    </tr>\n",
              "    <tr>\n",
              "      <th>6</th>\n",
              "      <td>5</td>\n",
              "      <td>Person_5</td>\n",
              "      <td>30</td>\n",
              "      <td>City_A</td>\n",
              "      <td>1707339561.8521063</td>\n",
              "      <td>IL1508wIENxT/A</td>\n",
              "      <td>None</td>\n",
              "    </tr>\n",
              "    <tr>\n",
              "      <th>7</th>\n",
              "      <td>5</td>\n",
              "      <td>Person_5</td>\n",
              "      <td>35</td>\n",
              "      <td>City_B</td>\n",
              "      <td>1707339562.454879</td>\n",
              "      <td>FYfmNBHvk3lu6A</td>\n",
              "      <td>Job_5</td>\n",
              "    </tr>\n",
              "    <tr>\n",
              "      <th>8</th>\n",
              "      <td>6</td>\n",
              "      <td>Person_6</td>\n",
              "      <td>36</td>\n",
              "      <td>City_B</td>\n",
              "      <td>1707339562.454879</td>\n",
              "      <td>2aY3yxhxjfOQ5g</td>\n",
              "      <td>Job_6</td>\n",
              "    </tr>\n",
              "    <tr>\n",
              "      <th>9</th>\n",
              "      <td>7</td>\n",
              "      <td>Person_7</td>\n",
              "      <td>37</td>\n",
              "      <td>City_B</td>\n",
              "      <td>1707339562.454879</td>\n",
              "      <td>ws1kEK4/o87f3A</td>\n",
              "      <td>Job_7</td>\n",
              "    </tr>\n",
              "    <tr>\n",
              "      <th>10</th>\n",
              "      <td>8</td>\n",
              "      <td>Person_8</td>\n",
              "      <td>38</td>\n",
              "      <td>City_B</td>\n",
              "      <td>1707339562.454879</td>\n",
              "      <td>kG6g5l1TXbHkMw</td>\n",
              "      <td>Job_8</td>\n",
              "    </tr>\n",
              "  </tbody>\n",
              "</table>\n",
              "</div>"
            ],
            "text/plain": [
              "    id      name  age    city        _dlt_load_id         _dlt_id occupation\n",
              "0    1  Person_1   26  City_A  1707339561.8521063  lGgpOyxz/vjAew       None\n",
              "1    2  Person_2   27  City_A  1707339561.8521063  3s0Egqt1itkKOg       None\n",
              "2    3  Person_3   28  City_A  1707339561.8521063  vzHyeYvwboeCFg       None\n",
              "3    3  Person_3   33  City_B   1707339562.454879  JHfU6chDahsrFQ      Job_3\n",
              "4    4  Person_4   29  City_A  1707339561.8521063  zr0aW7pUzszLZA       None\n",
              "5    4  Person_4   34  City_B   1707339562.454879  aYz49rHMrWXgzg      Job_4\n",
              "6    5  Person_5   30  City_A  1707339561.8521063  IL1508wIENxT/A       None\n",
              "7    5  Person_5   35  City_B   1707339562.454879  FYfmNBHvk3lu6A      Job_5\n",
              "8    6  Person_6   36  City_B   1707339562.454879  2aY3yxhxjfOQ5g      Job_6\n",
              "9    7  Person_7   37  City_B   1707339562.454879  ws1kEK4/o87f3A      Job_7\n",
              "10   8  Person_8   38  City_B   1707339562.454879  kG6g5l1TXbHkMw      Job_8"
            ]
          },
          "metadata": {},
          "output_type": "display_data"
        },
        {
          "name": "stdout",
          "output_type": "stream",
          "text": [
            "   sum(p.age)\n",
            "0       353.0\n"
          ]
        }
      ],
      "source": [
        "import dlt\n",
        "import duckdb\n",
        "\n",
        "def people_1():\n",
        "    for i in range(1, 6):\n",
        "        yield {\"ID\": i, \"Name\": f\"Person_{i}\", \"Age\": 25 + i, \"City\": \"City_A\"}\n",
        "\n",
        "# define the connection to load to.\n",
        "generators_pipeline = dlt.pipeline(destination='duckdb', dataset_name='generators')\n",
        "people_1_loader = generators_pipeline.run(\n",
        "    people_1(),\n",
        "    table_name=\"people\",\n",
        "    write_disposition=\"replace\",\n",
        ")\n",
        "print(people_1_loader)\n",
        "\n",
        "def people_2():\n",
        "    for i in range(3, 9):\n",
        "        yield {\"ID\": i, \"Name\": f\"Person_{i}\", \"Age\": 30 + i, \"City\": \"City_B\", \"Occupation\": f\"Job_{i}\"}\n",
        "\n",
        "generators_pipeline = dlt.pipeline(destination='duckdb', dataset_name='generators')\n",
        "people_2_loader = generators_pipeline.run(\n",
        "    people_2(),\n",
        "    table_name=\"people\",\n",
        "    write_disposition=\"append\",\n",
        ")\n",
        "print(people_2_loader)\n",
        "print(generators_pipeline.pipeline_name)\n",
        "\n",
        "# Check data and get sum of ages\n",
        "conn = duckdb.connect(f\"{generators_pipeline.pipeline_name}.duckdb\")\n",
        "conn.sql(f\"SET search_path = '{generators_pipeline.dataset_name}'\")\n",
        "\n",
        "people = conn.sql(\n",
        "\"\"\"\n",
        "SELECT *\n",
        "FROM people p\n",
        "ORDER BY p.name\n",
        "\"\"\"\n",
        ").df()\n",
        "display(people)\n",
        "\n",
        "# TASK\n",
        "# calculate the sum of all ages of people.\n",
        "\n",
        "total_age_sum = conn.sql(\n",
        "\"\"\"\n",
        "SELECT SUM(p.age)\n",
        "FROM people p\n",
        "\"\"\"\n",
        ").df()\n",
        "conn.close()\n",
        "print(f\"{total_age_sum}\")\n",
        "\n",
        "# After correctly appending the data, calculate the sum of all ages of people.\n",
        "353.0\n",
        "\n"
      ]
    },
    {
      "cell_type": "markdown",
      "metadata": {
        "id": "vtdTIm4fvQCN"
      },
      "source": []
    },
    {
      "cell_type": "markdown",
      "metadata": {
        "id": "pY4cFAWOSwN1"
      },
      "source": [
        "# 3. Merge a generator\n",
        "\n",
        "Re-use the generators from Exercise 2.\n",
        "\n",
        "A table's primary key needs to be created from the start, so load your data to a new table with primary key ID.\n",
        "\n",
        "Load your first generator first, and then load the second one with merge. Since they have overlapping IDs, some of the records from the first load should be replaced by the ones from the second load.\n",
        "\n",
        "After loading, you should have a total of 8 records, and ID 3 should have age 33.\n",
        "\n",
        "Question: **Calculate the sum of ages of all the people loaded as described above.**\n"
      ]
    },
    {
      "cell_type": "markdown",
      "metadata": {
        "id": "kKB2GTB9oVjr"
      },
      "source": [
        "# Solution: First make sure that the following modules are installed:"
      ]
    },
    {
      "cell_type": "code",
      "execution_count": 52,
      "metadata": {
        "id": "xTVvtyqrfVNq"
      },
      "outputs": [
        {
          "name": "stderr",
          "output_type": "stream",
          "text": [
            "UsageError: Line magic function `%%capture` not found.\n"
          ]
        }
      ],
      "source": [
        "#Install the dependencies\n",
        "# %%capture\n",
        "# !pip install dlt[duckdb]"
      ]
    },
    {
      "cell_type": "code",
      "execution_count": 10,
      "metadata": {
        "id": "a2-PRBAkGC2K"
      },
      "outputs": [
        {
          "name": "stdout",
          "output_type": "stream",
          "text": [
            "Pipeline dlt_ipykernel_launcher load step completed in 0.27 seconds\n",
            "1 load package(s) were loaded to destination duckdb and into dataset generators\n",
            "The duckdb destination used duckdb:////home/tom/projects/de-zoomcamp/homework/03-data-ingestion-dlt-workshop/dlt_ipykernel_launcher.duckdb location to store data\n",
            "Load package 1707339949.5313067 is LOADED and contains no failed jobs\n",
            "Pipeline dlt_ipykernel_launcher load step completed in 0.35 seconds\n",
            "1 load package(s) were loaded to destination duckdb and into dataset generators\n",
            "The duckdb destination used duckdb:////home/tom/projects/de-zoomcamp/homework/03-data-ingestion-dlt-workshop/dlt_ipykernel_launcher.duckdb location to store data\n",
            "Load package 1707339950.218018 is LOADED and contains no failed jobs\n",
            "dlt_ipykernel_launcher\n"
          ]
        },
        {
          "data": {
            "text/html": [
              "<div>\n",
              "<style scoped>\n",
              "    .dataframe tbody tr th:only-of-type {\n",
              "        vertical-align: middle;\n",
              "    }\n",
              "\n",
              "    .dataframe tbody tr th {\n",
              "        vertical-align: top;\n",
              "    }\n",
              "\n",
              "    .dataframe thead th {\n",
              "        text-align: right;\n",
              "    }\n",
              "</style>\n",
              "<table border=\"1\" class=\"dataframe\">\n",
              "  <thead>\n",
              "    <tr style=\"text-align: right;\">\n",
              "      <th></th>\n",
              "      <th>id</th>\n",
              "      <th>name</th>\n",
              "      <th>age</th>\n",
              "      <th>city</th>\n",
              "      <th>_dlt_load_id</th>\n",
              "      <th>_dlt_id</th>\n",
              "      <th>occupation</th>\n",
              "    </tr>\n",
              "  </thead>\n",
              "  <tbody>\n",
              "    <tr>\n",
              "      <th>0</th>\n",
              "      <td>1</td>\n",
              "      <td>Person_1</td>\n",
              "      <td>26</td>\n",
              "      <td>City_A</td>\n",
              "      <td>1707339949.5313067</td>\n",
              "      <td>zePnCc94DVwePw</td>\n",
              "      <td>None</td>\n",
              "    </tr>\n",
              "    <tr>\n",
              "      <th>1</th>\n",
              "      <td>2</td>\n",
              "      <td>Person_2</td>\n",
              "      <td>27</td>\n",
              "      <td>City_A</td>\n",
              "      <td>1707339949.5313067</td>\n",
              "      <td>4fOXKMeXfWm6cQ</td>\n",
              "      <td>None</td>\n",
              "    </tr>\n",
              "    <tr>\n",
              "      <th>2</th>\n",
              "      <td>3</td>\n",
              "      <td>Person_3</td>\n",
              "      <td>33</td>\n",
              "      <td>City_B</td>\n",
              "      <td>1707339950.218018</td>\n",
              "      <td>i0NLeItwB+RMcQ</td>\n",
              "      <td>Job_3</td>\n",
              "    </tr>\n",
              "    <tr>\n",
              "      <th>3</th>\n",
              "      <td>4</td>\n",
              "      <td>Person_4</td>\n",
              "      <td>34</td>\n",
              "      <td>City_B</td>\n",
              "      <td>1707339950.218018</td>\n",
              "      <td>LvdbZUg0un+7EQ</td>\n",
              "      <td>Job_4</td>\n",
              "    </tr>\n",
              "    <tr>\n",
              "      <th>4</th>\n",
              "      <td>5</td>\n",
              "      <td>Person_5</td>\n",
              "      <td>35</td>\n",
              "      <td>City_B</td>\n",
              "      <td>1707339950.218018</td>\n",
              "      <td>WSn40bwvFTEKxg</td>\n",
              "      <td>Job_5</td>\n",
              "    </tr>\n",
              "    <tr>\n",
              "      <th>5</th>\n",
              "      <td>6</td>\n",
              "      <td>Person_6</td>\n",
              "      <td>36</td>\n",
              "      <td>City_B</td>\n",
              "      <td>1707339950.218018</td>\n",
              "      <td>+CXM3wniVvvLQA</td>\n",
              "      <td>Job_6</td>\n",
              "    </tr>\n",
              "    <tr>\n",
              "      <th>6</th>\n",
              "      <td>7</td>\n",
              "      <td>Person_7</td>\n",
              "      <td>37</td>\n",
              "      <td>City_B</td>\n",
              "      <td>1707339950.218018</td>\n",
              "      <td>LnvQubNFLOXgwg</td>\n",
              "      <td>Job_7</td>\n",
              "    </tr>\n",
              "    <tr>\n",
              "      <th>7</th>\n",
              "      <td>8</td>\n",
              "      <td>Person_8</td>\n",
              "      <td>38</td>\n",
              "      <td>City_B</td>\n",
              "      <td>1707339950.218018</td>\n",
              "      <td>IHughwTdhdpBQA</td>\n",
              "      <td>Job_8</td>\n",
              "    </tr>\n",
              "  </tbody>\n",
              "</table>\n",
              "</div>"
            ],
            "text/plain": [
              "   id      name  age    city        _dlt_load_id         _dlt_id occupation\n",
              "0   1  Person_1   26  City_A  1707339949.5313067  zePnCc94DVwePw       None\n",
              "1   2  Person_2   27  City_A  1707339949.5313067  4fOXKMeXfWm6cQ       None\n",
              "2   3  Person_3   33  City_B   1707339950.218018  i0NLeItwB+RMcQ      Job_3\n",
              "3   4  Person_4   34  City_B   1707339950.218018  LvdbZUg0un+7EQ      Job_4\n",
              "4   5  Person_5   35  City_B   1707339950.218018  WSn40bwvFTEKxg      Job_5\n",
              "5   6  Person_6   36  City_B   1707339950.218018  +CXM3wniVvvLQA      Job_6\n",
              "6   7  Person_7   37  City_B   1707339950.218018  LnvQubNFLOXgwg      Job_7\n",
              "7   8  Person_8   38  City_B   1707339950.218018  IHughwTdhdpBQA      Job_8"
            ]
          },
          "metadata": {},
          "output_type": "display_data"
        },
        {
          "name": "stdout",
          "output_type": "stream",
          "text": [
            "   sum(pm.age)\n",
            "0        266.0\n"
          ]
        },
        {
          "data": {
            "text/plain": [
              "266.0"
            ]
          },
          "execution_count": 10,
          "metadata": {},
          "output_type": "execute_result"
        }
      ],
      "source": [
        "import dlt\n",
        "import duckdb\n",
        "\n",
        "# Generators\n",
        "def people_1():\n",
        "    for i in range(1, 6):\n",
        "        yield {\"ID\": i, \"Name\": f\"Person_{i}\", \"Age\": 25 + i, \"City\": \"City_A\"}\n",
        "\n",
        "\n",
        "def people_2():\n",
        "    for i in range(3, 9):\n",
        "        yield {\"ID\": i, \"Name\": f\"Person_{i}\", \"Age\": 30 + i, \"City\": \"City_B\", \"Occupation\": f\"Job_{i}\"}\n",
        "\n",
        "\n",
        "generators_pipeline = dlt.pipeline(destination='duckdb', dataset_name='generators')\n",
        "people_1_loader = generators_pipeline.run(\n",
        "    people_1(),\n",
        "    table_name=\"people_merge\",\n",
        "    write_disposition=\"replace\",\n",
        ")\n",
        "print(people_1_loader)\n",
        "\n",
        "\n",
        "generators_pipeline = dlt.pipeline(destination='duckdb', dataset_name='generators')\n",
        "people_2_loader = generators_pipeline.run(\n",
        "    people_2(),\n",
        "    table_name=\"people_merge\",\n",
        "    write_disposition=\"merge\",\n",
        "    primary_key=\"ID\",\n",
        ")\n",
        "print(people_2_loader)\n",
        "print(generators_pipeline.pipeline_name)\n",
        "\n",
        "# Check data and get sum of ages\n",
        "conn = duckdb.connect(f\"{generators_pipeline.pipeline_name}.duckdb\")\n",
        "conn.sql(f\"SET search_path = '{generators_pipeline.dataset_name}'\")\n",
        "\n",
        "people = conn.sql(\n",
        "\"\"\"\n",
        "SELECT *\n",
        "FROM people_merge pm\n",
        "ORDER BY pm.name\n",
        "\"\"\"\n",
        ").df()\n",
        "display(people)\n",
        "\n",
        "# TASK\n",
        "# calculate the sum of all ages of people.\n",
        "\n",
        "total_age_sum = conn.sql(\n",
        "\"\"\"\n",
        "SELECT SUM(pm.age)\n",
        "FROM people_merge pm\n",
        "\"\"\"\n",
        ").df()\n",
        "conn.close()\n",
        "print(f\"{total_age_sum}\")\n",
        "\n",
        "# Calculate the sum of ages of all the people loaded as described above.\n",
        "266.0\n"
      ]
    },
    {
      "cell_type": "markdown",
      "metadata": {
        "id": "PoTJu4kbGG0z"
      },
      "source": [
        "Questions? difficulties? We are here to help.\n",
        "- DTC data engineering course channel: https://datatalks-club.slack.com/archives/C01FABYF2RG\n",
        "- dlt's DTC cohort channel: https://dlthub-community.slack.com/archives/C06GAEX2VNX"
      ]
    }
  ],
  "metadata": {
    "colab": {
      "provenance": []
    },
    "kernelspec": {
      "display_name": "Python 3",
      "name": "python3"
    },
    "language_info": {
      "codemirror_mode": {
        "name": "ipython",
        "version": 3
      },
      "file_extension": ".py",
      "mimetype": "text/x-python",
      "name": "python",
      "nbconvert_exporter": "python",
      "pygments_lexer": "ipython3",
      "version": "3.10.12"
    }
  },
  "nbformat": 4,
  "nbformat_minor": 0
}
